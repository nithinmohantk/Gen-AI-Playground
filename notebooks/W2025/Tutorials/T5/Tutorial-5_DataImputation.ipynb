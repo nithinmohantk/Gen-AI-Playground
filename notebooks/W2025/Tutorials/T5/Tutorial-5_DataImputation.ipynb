{
 "cells": [
  {
   "cell_type": "markdown",
   "metadata": {
    "id": "O3Q0Vzi5y3O2"
   },
   "source": [
    "# Tutorial 5 - Data Imputation\n",
    "\n",
    "**Course:** SYSC 4415 - Introduction to Machine Learning\n",
    "\n",
    "**Semester:** Winter 2025\n",
    "\n",
    "**Adapted by:** [Kevin Dick](https://kevindick.ai/), [Igor Bogdanov](igorbogdanov@cmail.carleton.ca) \n",
    "\n",
    "**Adapted From:** [Daniel Newman](https://github.com/dtnewman)'s [Notebook](https://nbviewer.jupyter.org/github/dtnewman/gradient_descent/blob/master/stochastic_gradient_descent.ipynb)\n",
    "\n",
    "---\n",
    "\n",
    "## Illustration of the Effect of Missing Data during Training and Testing\n",
    "\n",
    "In this notebook, we will simulate the process of **filling in missing data with imputed values**. \n",
    "\n",
    "We will compare the performance of a classifier trained/tested on the datasets containing imputed values versus one where those rows are simply removed.\n",
    "\n",
    "The general workflow is as follows:\n",
    "1. Load the [Iris Dataset](https://raw.githubusercontent.com/jrgreen7/SYSC4906/master/orig-iris-data.csv)\n",
    "2. Split data into train/test sets (50/50)\n",
    "3. For i = 10:10:70%\n",
    "    * **Impute Condition**\n",
    "      - **Remove i%** of the training data from one feature\n",
    "      - **Impute missing data** using **mean** of all data from that class\n",
    "      - Train classifier\n",
    "      - Test classifier\n",
    "      - **Report score** along with i\n",
    "    * **Removal Condition**\n",
    "      - Remove training rows by replaving with NaN values,\n",
    "      - Train Classifier\n",
    "      - Test Classifier\n",
    "      - **Report score** along with i\n"
   ]
  },
  {
   "cell_type": "code",
   "execution_count": 1,
   "metadata": {
    "colab": {
     "base_uri": "https://localhost:8080/",
     "height": 204
    },
    "id": "WPNSNRyKwmUG",
    "outputId": "f362a8cc-3ae3-4ee7-88a6-7988e24359da"
   },
   "outputs": [
    {
     "data": {
      "text/html": [
       "<div>\n",
       "<style scoped>\n",
       "    .dataframe tbody tr th:only-of-type {\n",
       "        vertical-align: middle;\n",
       "    }\n",
       "\n",
       "    .dataframe tbody tr th {\n",
       "        vertical-align: top;\n",
       "    }\n",
       "\n",
       "    .dataframe thead th {\n",
       "        text-align: right;\n",
       "    }\n",
       "</style>\n",
       "<table border=\"1\" class=\"dataframe\">\n",
       "  <thead>\n",
       "    <tr style=\"text-align: right;\">\n",
       "      <th></th>\n",
       "      <th>sepal_length_cm</th>\n",
       "      <th>sepal_width_cm</th>\n",
       "      <th>petal_length_cm</th>\n",
       "      <th>petal_width_cm</th>\n",
       "      <th>class</th>\n",
       "    </tr>\n",
       "  </thead>\n",
       "  <tbody>\n",
       "    <tr>\n",
       "      <th>0</th>\n",
       "      <td>5.1</td>\n",
       "      <td>3.5</td>\n",
       "      <td>1.4</td>\n",
       "      <td>0.2</td>\n",
       "      <td>Iris-setosa</td>\n",
       "    </tr>\n",
       "    <tr>\n",
       "      <th>1</th>\n",
       "      <td>4.9</td>\n",
       "      <td>3.0</td>\n",
       "      <td>1.4</td>\n",
       "      <td>0.2</td>\n",
       "      <td>Iris-setosa</td>\n",
       "    </tr>\n",
       "    <tr>\n",
       "      <th>2</th>\n",
       "      <td>4.7</td>\n",
       "      <td>3.2</td>\n",
       "      <td>1.3</td>\n",
       "      <td>0.2</td>\n",
       "      <td>Iris-setosa</td>\n",
       "    </tr>\n",
       "    <tr>\n",
       "      <th>3</th>\n",
       "      <td>4.6</td>\n",
       "      <td>3.1</td>\n",
       "      <td>1.5</td>\n",
       "      <td>0.2</td>\n",
       "      <td>Iris-setosa</td>\n",
       "    </tr>\n",
       "    <tr>\n",
       "      <th>4</th>\n",
       "      <td>5.0</td>\n",
       "      <td>3.6</td>\n",
       "      <td>1.4</td>\n",
       "      <td>0.2</td>\n",
       "      <td>Iris-setosa</td>\n",
       "    </tr>\n",
       "  </tbody>\n",
       "</table>\n",
       "</div>"
      ],
      "text/plain": [
       "   sepal_length_cm  sepal_width_cm  petal_length_cm  petal_width_cm  \\\n",
       "0              5.1             3.5              1.4             0.2   \n",
       "1              4.9             3.0              1.4             0.2   \n",
       "2              4.7             3.2              1.3             0.2   \n",
       "3              4.6             3.1              1.5             0.2   \n",
       "4              5.0             3.6              1.4             0.2   \n",
       "\n",
       "         class  \n",
       "0  Iris-setosa  \n",
       "1  Iris-setosa  \n",
       "2  Iris-setosa  \n",
       "3  Iris-setosa  \n",
       "4  Iris-setosa  "
      ]
     },
     "execution_count": 1,
     "metadata": {},
     "output_type": "execute_result"
    }
   ],
   "source": [
    "%matplotlib inline\n",
    "import matplotlib.pyplot as plt\n",
    "import pandas as pd\n",
    "import seaborn as sb\n",
    "import numpy as np\n",
    "from sklearn.tree import DecisionTreeClassifier\n",
    "\n",
    "# Load the dataset\n",
    "url = 'https://raw.githubusercontent.com/jrgreen7/SYSC4906/master/F2019/orig-iris-data.csv'\n",
    "iris_data = pd.read_csv(url)\n",
    "# Note that iris = seaborn.load_dataset(\"iris\") would also work (with diff column names)\n",
    "\n",
    "# Quickly visualize first few rows\n",
    "iris_data.head()"
   ]
  },
  {
   "cell_type": "markdown",
   "metadata": {
    "id": "pe5766e4w0jN"
   },
   "source": [
    "To simplify the experiment, we will only consider a single feature: `sepal_width_cm`"
   ]
  },
  {
   "cell_type": "code",
   "execution_count": 2,
   "metadata": {
    "colab": {
     "base_uri": "https://localhost:8080/",
     "height": 297
    },
    "id": "Rt-0gOpCxrTk",
    "outputId": "45e22383-78ac-438c-965c-99f1140c1b5a"
   },
   "outputs": [
    {
     "data": {
      "text/html": [
       "<div>\n",
       "<style scoped>\n",
       "    .dataframe tbody tr th:only-of-type {\n",
       "        vertical-align: middle;\n",
       "    }\n",
       "\n",
       "    .dataframe tbody tr th {\n",
       "        vertical-align: top;\n",
       "    }\n",
       "\n",
       "    .dataframe thead th {\n",
       "        text-align: right;\n",
       "    }\n",
       "</style>\n",
       "<table border=\"1\" class=\"dataframe\">\n",
       "  <thead>\n",
       "    <tr style=\"text-align: right;\">\n",
       "      <th></th>\n",
       "      <th>sepal_width_cm</th>\n",
       "    </tr>\n",
       "  </thead>\n",
       "  <tbody>\n",
       "    <tr>\n",
       "      <th>count</th>\n",
       "      <td>150.000000</td>\n",
       "    </tr>\n",
       "    <tr>\n",
       "      <th>mean</th>\n",
       "      <td>3.054000</td>\n",
       "    </tr>\n",
       "    <tr>\n",
       "      <th>std</th>\n",
       "      <td>0.433594</td>\n",
       "    </tr>\n",
       "    <tr>\n",
       "      <th>min</th>\n",
       "      <td>2.000000</td>\n",
       "    </tr>\n",
       "    <tr>\n",
       "      <th>25%</th>\n",
       "      <td>2.800000</td>\n",
       "    </tr>\n",
       "    <tr>\n",
       "      <th>50%</th>\n",
       "      <td>3.000000</td>\n",
       "    </tr>\n",
       "    <tr>\n",
       "      <th>75%</th>\n",
       "      <td>3.300000</td>\n",
       "    </tr>\n",
       "    <tr>\n",
       "      <th>max</th>\n",
       "      <td>4.400000</td>\n",
       "    </tr>\n",
       "  </tbody>\n",
       "</table>\n",
       "</div>"
      ],
      "text/plain": [
       "       sepal_width_cm\n",
       "count      150.000000\n",
       "mean         3.054000\n",
       "std          0.433594\n",
       "min          2.000000\n",
       "25%          2.800000\n",
       "50%          3.000000\n",
       "75%          3.300000\n",
       "max          4.400000"
      ]
     },
     "execution_count": 2,
     "metadata": {},
     "output_type": "execute_result"
    }
   ],
   "source": [
    "# Drop all features except petal_width_cm\n",
    "iris_data.drop(['sepal_length_cm', 'petal_length_cm', 'petal_width_cm'], axis=1, inplace=True)\n",
    "#\n",
    "# Describe the data (gives range of each feature, etc)\n",
    "iris_data.describe()"
   ]
  },
  {
   "cell_type": "code",
   "execution_count": 3,
   "metadata": {
    "colab": {
     "base_uri": "https://localhost:8080/",
     "height": 197
    },
    "id": "VjkysY90ynGa",
    "outputId": "0bca7ab3-1c37-4d5c-f92d-007ed46c2fe6"
   },
   "outputs": [
    {
     "data": {
      "image/png": "[encoded data removed]",
      "text/plain": [
       "<Figure size 295.486x250 with 2 Axes>"
      ]
     },
     "metadata": {},
     "output_type": "display_data"
    }
   ],
   "source": [
    "# Plot the features, in pairs\n",
    "sb.pairplot(iris_data.dropna(), hue='class'); # Dropping NA values, but shouldn't be any yet...\n",
    "plt.show()"
   ]
  },
  {
   "cell_type": "markdown",
   "metadata": {
    "id": "mAjhGWPBx_BB"
   },
   "source": [
    "### Avoid Data Leakage: Split the Dataset into Train and Test \n",
    "\n",
    "**Critical:** we MUST split the dataset before we impute the values!\n",
    "\n",
    "**[Data Leakage](https://www.kaggle.com/alexisbcook/data-leakage)** occurs when information about the **test samples** are somehow **encoded** within the **training dataset**. This results in a biased, overfit, and non-generalizable method and inflates the performance.\n",
    "\n",
    "In this case, the values from the test dataset should not be used for the imputation of missing values in the training dataset."
   ]
  },
  {
   "cell_type": "code",
   "execution_count": 4,
   "metadata": {
    "id": "g7TCGRvcyEMZ"
   },
   "outputs": [],
   "source": [
    "# Split the data (doing this in Pandas rather than using sklearn)\n",
    "\n",
    "iris_data_copy = iris_data.copy()\n",
    "train_set = iris_data_copy.sample(frac=0.5, random_state=0)\n",
    "test_set = iris_data_copy.drop(train_set.index)"
   ]
  },
  {
   "cell_type": "markdown",
   "metadata": {
    "id": "7O0l0tfHzoUb"
   },
   "source": [
    "### Run the Experiment"
   ]
  },
  {
   "cell_type": "code",
   "execution_count": 5,
   "metadata": {
    "colab": {
     "base_uri": "https://localhost:8080/",
     "height": 170
    },
    "id": "GPErIG5T5Krz",
    "outputId": "a363f9b0-091c-434a-cb0d-47659ab3d488"
   },
   "outputs": [
    {
     "name": "stdout",
     "output_type": "stream",
     "text": [
      "For 10% missing data —\tAccuracy Imputed: 0.49333333\tAccuracy Dropped: 0.49333333\t diff: 0.00000000\n",
      "For 20% missing data —\tAccuracy Imputed: 0.45333333\tAccuracy Dropped: 0.45333333\t diff: 0.00000000\n",
      "For 30% missing data —\tAccuracy Imputed: 0.46666667\tAccuracy Dropped: 0.46666667\t diff: 0.00000000\n",
      "For 40% missing data —\tAccuracy Imputed: 0.49333333\tAccuracy Dropped: 0.49333333\t diff: 0.00000000\n",
      "For 50% missing data —\tAccuracy Imputed: 0.54666667\tAccuracy Dropped: 0.53333333\t diff: 0.01333333\n",
      "For 60% missing data —\tAccuracy Imputed: 0.60000000\tAccuracy Dropped: 0.54666667\t diff: 0.05333333\n",
      "For 70% missing data —\tAccuracy Imputed: 0.49333333\tAccuracy Dropped: 0.49333333\t diff: 0.00000000\n",
      "For 80% missing data —\tAccuracy Imputed: 0.53333333\tAccuracy Dropped: 0.53333333\t diff: 0.00000000\n",
      "For 90% missing data —\tAccuracy Imputed: 0.52000000\tAccuracy Dropped: 0.52000000\t diff: 0.00000000\n"
     ]
    }
   ],
   "source": [
    "from sklearn.metrics import precision_score, recall_score, f1_score, classification_report\n",
    "# Vary the amount of missing feature values from 10% to 90%\n",
    "for i in np.linspace(0.1, 0.9, num=9):\n",
    "  # Randomly select some rows based on the current fraction\n",
    "  missingRows = train_set.sample(frac=i, random_state=1)\n",
    "  train_set_copy = train_set.copy()\n",
    "\n",
    "  train_set_copy.describe()\n",
    "    \n",
    "  # Replace those selected rows with NaN --> 'simulated missing data'\n",
    "  train_set_copy.loc[missingRows.index, 'sepal_width_cm'] = np.NaN; # Replace missing rows with NaN for sepal_width_cm feature\n",
    "\n",
    "  # Remove the missing rows prior to computing the mean of the feature:\n",
    "  train_set_copy_noNA = train_set_copy.dropna(inplace=False)\n",
    "\n",
    "  # print(train_set_copy_noNA.describe())\n",
    "        \n",
    "  # Compute the average petal width, for each class (compute from non-NA rows)\n",
    "  average_setosa = train_set_copy_noNA.loc[train_set_copy_noNA['class'] == 'Iris-setosa', 'sepal_width_cm'].mean()\n",
    "  average_versicolor = train_set_copy_noNA.loc[train_set_copy_noNA['class'] == 'Iris-versicolor', 'sepal_width_cm'].mean()\n",
    "  average_virginica = train_set_copy_noNA.loc[train_set_copy_noNA['class'] == 'Iris-virginica', 'sepal_width_cm'].mean()\n",
    "  \n",
    "  # Replace missing values with the mean value for that class\n",
    "  train_set_copy.loc[(train_set_copy['class'] == 'Iris-setosa') &\n",
    "              (train_set_copy['sepal_width_cm'].isnull()),\n",
    "              'sepal_width_cm'] = average_setosa\n",
    "  train_set_copy.loc[(train_set_copy['class'] == 'Iris-versicolor') &\n",
    "              (train_set_copy['sepal_width_cm'].isnull()),\n",
    "              'sepal_width_cm'] = average_versicolor\n",
    "  train_set_copy.loc[(train_set_copy['class'] == 'Iris-virginica') &\n",
    "              (train_set_copy['sepal_width_cm'].isnull()),\n",
    "              'sepal_width_cm'] = average_virginica\n",
    "\n",
    "  # Extract the data/classes from pandas into nparrays for the classifier:\n",
    "  features_imp = train_set_copy['sepal_width_cm'].values.reshape(-1,1)\n",
    "  labels_imp = train_set_copy['class'].values.reshape(-1,1)\n",
    "\n",
    "  # CONDITION 1: With Imputation\n",
    "  dt_classifier_imp = DecisionTreeClassifier()\n",
    "  dt_classifier_imp.fit(features_imp, labels_imp)\n",
    "\n",
    "  # Train a DT classifier without imputation\n",
    "  features_drop = train_set_copy_noNA['sepal_width_cm'].values.reshape(-1,1)\n",
    "  labels_drop = train_set_copy_noNA['class'].values.reshape(-1,1)\n",
    "\n",
    "  # CONDITION 2: Without Imputation\n",
    "  dt_classifier_drop = DecisionTreeClassifier()\n",
    "  dt_classifier_drop.fit(features_drop, labels_drop)\n",
    "  \n",
    "  # Test the DT classifier with imputation\n",
    "  test_features = test_set['sepal_width_cm'].values.reshape(-1,1)\n",
    "  test_labels = test_set['class'].values \n",
    "  \n",
    "  score_imp = dt_classifier_imp.score(test_features, test_labels)\n",
    "  # Test the DT classifier without imputation (NaN rows removed)\n",
    "  score_drop = dt_classifier_drop.score(test_features, test_labels)\n",
    "\n",
    "  # Print the score:\n",
    "  print(f'For {i*100:.0f}% missing data —\\tAccuracy Imputed: {score_imp:.8f}\\tAccuracy Dropped: {score_drop:.8f}\\t diff: {score_imp-score_drop:.8f}')\n",
    "    "
   ]
  },
  {
   "cell_type": "markdown",
   "metadata": {
    "id": "VFAIxAcPdTWA"
   },
   "source": [
    "### Discussion\n",
    "\n",
    "**Questions:**\n",
    "1.  What if feature data were missing from the test data? \n",
    "2.  How would you impute the missing feature values? \n",
    "3.  Would it have more or less of an effect than missing data during training?\n",
    "\n",
    "## Take Away Messages\n",
    "* Imputation is a method to fill in missnig values.\n",
    "* **Data Leakage** occurs when information about the **test samples** is somehow **encoded** within the **training dataset**, resulting in possible overfitting and inflated model performance.\n",
    "* Imputation vs. dropping samples generally leads to higher performance.\n",
    "* Imputation in the test set should only be done if you have domain knowledge (e.g. an expert) or you know that you will obtain that value during deployment.\n",
    "\n",
    "---\n",
    "\n",
    "### (Optional) Open-Ended/Applied Homework\n",
    "* Implement **your own/other** data imputation methods.\n",
    "* **Compare performance** with mean-based imputation\n",
    "* Does one perform **statistically significantly** better than simply dropping samples?\n",
    "* What happens when you have **multiple features**?\n",
    "* Can you impute the value of **one missing feature using other features**?\n",
    "---\n",
    "\n",
    "$\\blacksquare$\n"
   ]
  },
  {
   "cell_type": "code",
   "execution_count": null,
   "metadata": {},
   "outputs": [],
   "source": []
  }
 ],
 "metadata": {
  "colab": {
   "name": "Tutorial_4_DataImputation.ipynb",
   "provenance": []
  },
  "kernelspec": {
   "display_name": "Python 3 (ipykernel)",
   "language": "python",
   "name": "python3"
  },
  "language_info": {
   "codemirror_mode": {
    "name": "ipython",
    "version": 3
   },
   "file_extension": ".py",
   "mimetype": "text/x-python",
   "name": "python",
   "nbconvert_exporter": "python",
   "pygments_lexer": "ipython3",
   "version": "3.11.11"
  }
 },
 "nbformat": 4,
 "nbformat_minor": 4
}
